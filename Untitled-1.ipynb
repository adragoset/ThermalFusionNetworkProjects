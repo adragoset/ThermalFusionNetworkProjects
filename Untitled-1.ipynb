{
 "cells": [
  {
   "cell_type": "code",
   "execution_count": 1,
   "metadata": {},
   "outputs": [],
   "source": [
    "\n",
    "from MobileNetMultiSpectralFusion import MobileMultiSpectralFusionNetDefault\n",
    "from keras import backend\n",
    "from keras import layers\n",
    "from keras import models\n",
    "from keras import utils\n",
    "\n",
    "from multiprocessing import Process, Queue\n",
    "\n",
    "kwargs = { 'backend': backend, 'layers': layers, 'models': models, 'utils': utils}\n",
    "\n",
    "model = MobileMultiSpectralFusionNetDefault((1080, 1920, 4), 1, None, None, None, 0.2, **kwargs)\n",
    "\n",
    "print(model.summary())\n"
   ]
  },
  {
   "cell_type": "code",
   "execution_count": null,
   "metadata": {},
   "outputs": [
    {
     "name": "stdout",
     "output_type": "stream",
     "text": [
      "hello\n",
      "[]\n"
     ]
    }
   ],
   "source": [
    "import tensorflow\n",
    "print('hello')\n",
    "print(tensorflow.config.list_physical_devices('GPU'))"
   ]
  }
 ],
 "metadata": {
  "interpreter": {
   "hash": "667579798e33d359528e6963f77b848cc986ff73aea8ff8012d5018a9c836dc0"
  },
  "kernelspec": {
   "display_name": "Python 3.9.7 ('base')",
   "language": "python",
   "name": "python3"
  },
  "language_info": {
   "codemirror_mode": {
    "name": "ipython",
    "version": 3
   },
   "file_extension": ".py",
   "mimetype": "text/x-python",
   "name": "python",
   "nbconvert_exporter": "python",
   "pygments_lexer": "ipython3",
   "version": "3.10.0"
  },
  "orig_nbformat": 4
 },
 "nbformat": 4,
 "nbformat_minor": 2
}
